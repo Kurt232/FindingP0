{
 "cells": [
  {
   "cell_type": "code",
   "execution_count": null,
   "metadata": {},
   "outputs": [],
   "source": [
    "from dgl.data import DGLDataset\n",
    "\n",
    "class MyDataset(DGLDataset):\n",
    "    \"\"\" 用于在DGL中自定义图数据集的模板：\n",
    "\n",
    "    Parameters\n",
    "    ----------\n",
    "    url : str\n",
    "        下载原始数据集的url。\n",
    "    raw_dir : str\n",
    "        指定下载数据的存储目录或已下载数据的存储目录。默认: ~/.dgl/\n",
    "    save_dir : str\n",
    "        处理完成的数据集的保存目录。默认：raw_dir指定的值\n",
    "    force_reload : bool\n",
    "        是否重新导入数据集。默认：False\n",
    "    verbose : bool\n",
    "        是否打印进度信息。\n",
    "    \"\"\"\n",
    "    def __init__(self,\n",
    "                 url=None,\n",
    "                 raw_dir=None,\n",
    "                 save_dir=None,\n",
    "                 force_reload=False,\n",
    "                 verbose=False):\n",
    "        super(MyDataset, self).__init__(name='dataset_name',\n",
    "                                        url=url,\n",
    "                                        raw_dir=raw_dir,\n",
    "                                        save_dir=save_dir,\n",
    "                                        force_reload=force_reload,\n",
    "                                        verbose=verbose)\n",
    "\n",
    "    def download(self):\n",
    "        # 将原始数据下载到本地磁盘\n",
    "        pass\n",
    "\n",
    "    def process(self):\n",
    "        # 将原始数据处理为图、标签和数据集划分的掩码\n",
    "        pass\n",
    "\n",
    "    def __getitem__(self, idx):\n",
    "        # 通过idx得到与之对应的一个样本\n",
    "        pass\n",
    "\n",
    "    def __len__(self):\n",
    "        # 数据样本的数量\n",
    "        pass\n",
    "\n",
    "    def save(self):\n",
    "        # 将处理后的数据保存至 `self.save_path`\n",
    "        pass\n",
    "\n",
    "    def load(self):\n",
    "        # 从 `self.save_path` 导入处理后的数据\n",
    "        pass\n",
    "\n",
    "    def has_cache(self):\n",
    "        # 检查在 `self.save_path` 中是否存有处理后的数据\n",
    "        pass"
   ]
  }
 ],
 "metadata": {
  "kernelspec": {
   "display_name": "Python 3.8.10 64-bit",
   "language": "python",
   "name": "python3"
  },
  "language_info": {
   "name": "python",
   "version": "3.8.10"
  },
  "orig_nbformat": 4,
  "vscode": {
   "interpreter": {
    "hash": "916dbcbb3f70747c44a77c7bcd40155683ae19c65e1c03b4aa3499c5328201f1"
   }
  }
 },
 "nbformat": 4,
 "nbformat_minor": 2
}
