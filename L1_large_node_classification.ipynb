{
  "cells": [
    {
      "cell_type": "code",
      "execution_count": 43,
      "metadata": {
        "collapsed": false
      },
      "outputs": [],
      "source": [
        "%matplotlib inline"
      ]
    },
    {
      "cell_type": "markdown",
      "metadata": {},
      "source": [
        "\n",
        "Training GNN with Neighbor Sampling for Node Classification\n",
        "===========================================================\n",
        "\n",
        "This tutorial shows how to train a multi-layer GraphSAGE for node\n",
        "classification on ``ogbn-arxiv`` provided by `Open Graph\n",
        "Benchmark (OGB) <https://ogb.stanford.edu/>`__. The dataset contains around\n",
        "170 thousand nodes and 1 million edges.\n",
        "\n",
        "By the end of this tutorial, you will be able to\n",
        "\n",
        "-  Train a GNN model for node classification on a single GPU with DGL's\n",
        "   neighbor sampling components.\n",
        "\n",
        "This tutorial assumes that you have read the :doc:`Introduction of Neighbor\n",
        "Sampling for GNN Training <L0_neighbor_sampling_overview>`.\n"
      ]
    },
    {
      "cell_type": "markdown",
      "metadata": {},
      "source": [
        "Loading Dataset\n",
        "---------------\n",
        "\n",
        "OGB already prepared the data as DGL graph.\n",
        "\n",
        "\n"
      ]
    },
    {
      "cell_type": "code",
      "execution_count": 44,
      "metadata": {
        "collapsed": false
      },
      "outputs": [],
      "source": [
        "import dgl\n",
        "import torch\n",
        "import numpy as np\n",
        "from ogb.nodeproppred import DglNodePropPredDataset\n",
        "\n",
        "dataset = DglNodePropPredDataset('ogbn-arxiv')\n",
        "device = 'cuda'      # change to 'cuda' for GPU"
      ]
    },
    {
      "cell_type": "markdown",
      "metadata": {},
      "source": [
        "OGB dataset is a collection of graphs and their labels. ``ogbn-arxiv``\n",
        "dataset only contains a single graph. So you can\n",
        "simply get the graph and its node labels like this:\n",
        "\n",
        "\n"
      ]
    },
    {
      "cell_type": "code",
      "execution_count": 45,
      "metadata": {
        "collapsed": false
      },
      "outputs": [
        {
          "name": "stdout",
          "output_type": "stream",
          "text": [
            "Graph(num_nodes=169343, num_edges=2332486,\n",
            "      ndata_schemes={'year': Scheme(shape=(1,), dtype=torch.int64), 'feat': Scheme(shape=(128,), dtype=torch.float32), 'label': Scheme(shape=(), dtype=torch.int64)}\n",
            "      edata_schemes={})\n",
            "tensor([[ 4],\n",
            "        [ 5],\n",
            "        [28],\n",
            "        ...,\n",
            "        [10],\n",
            "        [ 4],\n",
            "        [ 1]])\n",
            "Number of classes: 40\n"
          ]
        }
      ],
      "source": [
        "graph, node_labels = dataset[0]\n",
        "# Add reverse edges since ogbn-arxiv is unidirectional.\n",
        "graph = dgl.add_reverse_edges(graph)\n",
        "graph.ndata['label'] = node_labels[:, 0]\n",
        "print(graph)\n",
        "print(node_labels)\n",
        "\n",
        "node_features = graph.ndata['feat']\n",
        "num_features = node_features.shape[1]\n",
        "num_classes = (node_labels.max() + 1).item()\n",
        "print('Number of classes:', num_classes)"
      ]
    },
    {
      "cell_type": "markdown",
      "metadata": {},
      "source": [
        "You can get the training-validation-test split of the nodes with\n",
        "``get_split_idx`` method.\n",
        "\n",
        "\n"
      ]
    },
    {
      "cell_type": "code",
      "execution_count": 46,
      "metadata": {
        "collapsed": false
      },
      "outputs": [],
      "source": [
        "idx_split = dataset.get_idx_split()\n",
        "train_nids = idx_split['train']\n",
        "valid_nids = idx_split['valid']\n",
        "test_nids = idx_split['test']"
      ]
    },
    {
      "cell_type": "markdown",
      "metadata": {},
      "source": [
        "How DGL Handles Computation Dependency\n",
        "--------------------------------------\n",
        "\n",
        "In the :doc:`previous tutorial <L0_neighbor_sampling_overview>`, you\n",
        "have seen that the computation dependency for message passing of a\n",
        "single node can be described as a series of *message flow graphs* (MFG).\n",
        "\n",
        "|image1|\n",
        "\n",
        ".. |image1| image:: https://data.dgl.ai/tutorial/img/bipartite.gif\n",
        "\n",
        "\n"
      ]
    },
    {
      "cell_type": "markdown",
      "metadata": {},
      "source": [
        "Defining Neighbor Sampler and Data Loader in DGL\n",
        "------------------------------------------------\n",
        "\n",
        "DGL provides tools to iterate over the dataset in minibatches\n",
        "while generating the computation dependencies to compute their outputs\n",
        "with the MFGs above. For node classification, you can use\n",
        "``dgl.dataloading.DataLoader`` for iterating over the dataset.\n",
        "It accepts a sampler object to control how to generate the computation\n",
        "dependencies in the form of MFGs.  DGL provides\n",
        "implementations of common sampling algorithms such as\n",
        "``dgl.dataloading.NeighborSampler`` which randomly picks\n",
        "a fixed number of neighbors for each node.\n",
        "\n",
        "<div class=\"alert alert-info\"><h4>Note</h4><p>To write your own neighbor sampler, please refer to `this user\n",
        "   guide section <guide-minibatch-customizing-neighborhood-sampler>`.</p></div>\n",
        "\n",
        "The syntax of ``dgl.dataloading.DataLoader`` is mostly similar to a\n",
        "PyTorch ``DataLoader``, with the addition that it needs a graph to\n",
        "generate computation dependency from, a set of node IDs to iterate on,\n",
        "and the neighbor sampler you defined.\n",
        "\n",
        "Let’s say that each node will gather messages from 4 neighbors on each\n",
        "layer. The code defining the data loader and neighbor sampler will look\n",
        "like the following.\n",
        "\n",
        "\n"
      ]
    },
    {
      "cell_type": "code",
      "execution_count": 47,
      "metadata": {
        "collapsed": false
      },
      "outputs": [],
      "source": [
        "sampler = dgl.dataloading.NeighborSampler([4, 4])\n",
        "train_dataloader = dgl.dataloading.DataLoader(\n",
        "    # The following arguments are specific to DGL's DataLoader.\n",
        "    graph,              # The graph\n",
        "    train_nids,         # The node IDs to iterate over in minibatches\n",
        "    sampler,            # The neighbor sampler\n",
        "    device=device,      # Put the sampled MFGs on CPU or GPU\n",
        "    # The following arguments are inherited from PyTorch DataLoader.\n",
        "    batch_size=1024,    # Batch size\n",
        "    shuffle=True,       # Whether to shuffle the nodes for every epoch\n",
        "    drop_last=False,    # Whether to drop the last incomplete batch\n",
        "    num_workers=0       # Number of sampler processes\n",
        ")"
      ]
    },
    {
      "cell_type": "markdown",
      "metadata": {},
      "source": [
        "<div class=\"alert alert-info\"><h4>Note</h4><p>Since DGL 0.7 neighborhood sampling on GPU is supported.  Please\n",
        "   refer to `guide-minibatch-gpu-sampling` if you are\n",
        "   interested.</p></div>\n",
        "\n",
        "\n"
      ]
    },
    {
      "cell_type": "markdown",
      "metadata": {},
      "source": [
        "You can iterate over the data loader and see what it yields.\n",
        "\n",
        "\n"
      ]
    },
    {
      "cell_type": "code",
      "execution_count": 48,
      "metadata": {
        "collapsed": false
      },
      "outputs": [
        {
          "name": "stdout",
          "output_type": "stream",
          "text": [
            "[tensor([137572,  99577,  11240,  ..., 141241, 127335,  66578], device='cuda:0'), tensor([137572,  99577,  11240,  ...,  46931, 144428,  63643], device='cuda:0'), [Block(num_src_nodes=12674, num_dst_nodes=4034, num_edges=14514), Block(num_src_nodes=4034, num_dst_nodes=1024, num_edges=3220)]]\n",
            "To compute 1024 nodes' outputs, we need 12674 nodes' input features\n"
          ]
        }
      ],
      "source": [
        "input_nodes, output_nodes, mfgs = example_minibatch = next(iter(train_dataloader))\n",
        "print(example_minibatch)\n",
        "print(\"To compute {} nodes' outputs, we need {} nodes' input features\".format(len(output_nodes), len(input_nodes)))"
      ]
    },
    {
      "cell_type": "markdown",
      "metadata": {},
      "source": [
        "DGL's ``DataLoader`` gives us three items per iteration.\n",
        "\n",
        "-  An ID tensor for the input nodes, i.e., nodes whose input features\n",
        "   are needed on the first GNN layer for this minibatch.\n",
        "-  An ID tensor for the output nodes, i.e. nodes whose representations\n",
        "   are to be computed.\n",
        "-  A list of MFGs storing the computation dependencies\n",
        "   for each GNN layer.\n",
        "\n",
        "\n"
      ]
    },
    {
      "cell_type": "markdown",
      "metadata": {},
      "source": [
        "You can get the source and destination node IDs of the MFGs\n",
        "and verify that the first few source nodes are always the same as the destination\n",
        "nodes.  As we described in the :doc:`overview <L0_neighbor_sampling_overview>`,\n",
        "destination nodes' own features from the previous layer may also be necessary in\n",
        "the computation of the new features.\n",
        "\n",
        "\n"
      ]
    },
    {
      "cell_type": "code",
      "execution_count": 49,
      "metadata": {
        "collapsed": false
      },
      "outputs": [
        {
          "name": "stdout",
          "output_type": "stream",
          "text": [
            "tensor([137572,  99577,  11240,  ..., 141241, 127335,  66578], device='cuda:0')\n",
            "tensor([137572,  99577,  11240,  ...,  43080,  72461,  90948], device='cuda:0')\n",
            "True\n"
          ]
        }
      ],
      "source": [
        "mfg_0_src = mfgs[0].srcdata[dgl.NID]\n",
        "mfg_0_dst = mfgs[0].dstdata[dgl.NID]\n",
        "print(mfg_0_src)\n",
        "print(mfg_0_dst)\n",
        "print(torch.equal(mfg_0_src[:mfgs[0].num_dst_nodes()], mfg_0_dst))"
      ]
    },
    {
      "cell_type": "markdown",
      "metadata": {},
      "source": [
        "Defining Model\n",
        "--------------\n",
        "\n",
        "Let’s consider training a 2-layer GraphSAGE with neighbor sampling. The\n",
        "model can be written as follows:\n",
        "\n",
        "\n"
      ]
    },
    {
      "cell_type": "code",
      "execution_count": 50,
      "metadata": {
        "collapsed": false
      },
      "outputs": [],
      "source": [
        "import torch.nn as nn\n",
        "import torch.nn.functional as F\n",
        "from dgl.nn import SAGEConv\n",
        "\n",
        "class Model(nn.Module):\n",
        "    def __init__(self, in_feats, h_feats, num_classes):\n",
        "        super(Model, self).__init__()\n",
        "        self.conv1 = SAGEConv(in_feats, h_feats, aggregator_type='mean')\n",
        "        self.conv2 = SAGEConv(h_feats, num_classes, aggregator_type='mean')\n",
        "        self.h_feats = h_feats\n",
        "\n",
        "    def forward(self, mfgs, x):\n",
        "        # Lines that are changed are marked with an arrow: \"<---\"\n",
        "\n",
        "        h_dst = x[:mfgs[0].num_dst_nodes()]  # <---\n",
        "        h = self.conv1(mfgs[0], (x, h_dst))  # <---\n",
        "        h = F.relu(h)\n",
        "        h_dst = h[:mfgs[1].num_dst_nodes()]  # <---\n",
        "        h = self.conv2(mfgs[1], (h, h_dst))  # <---\n",
        "        return h\n",
        "\n",
        "model = Model(num_features, 128, num_classes).to(device)"
      ]
    },
    {
      "cell_type": "markdown",
      "metadata": {},
      "source": [
        "If you compare against the code in the\n",
        ":doc:`introduction <../blitz/1_introduction>`, you will notice several\n",
        "differences:\n",
        "\n",
        "-  **DGL GNN layers on MFGs**. Instead of computing on the\n",
        "   full graph:\n",
        "\n",
        "   .. code:: python\n",
        "\n",
        "      h = self.conv1(g, x)\n",
        "\n",
        "   you only compute on the sampled MFG:\n",
        "\n",
        "   .. code:: python\n",
        "\n",
        "      h = self.conv1(mfgs[0], (x, h_dst))\n",
        "\n",
        "   All DGL’s GNN modules support message passing on MFGs,\n",
        "   where you supply a pair of features, one for source nodes and another\n",
        "   for destination nodes.\n",
        "\n",
        "-  **Feature slicing for self-dependency**. There are statements that\n",
        "   perform slicing to obtain the previous-layer representation of the\n",
        "    nodes:\n",
        "\n",
        "   .. code:: python\n",
        "\n",
        "      h_dst = x[:mfgs[0].num_dst_nodes()]\n",
        "\n",
        "   ``num_dst_nodes`` method works with MFGs, where it will\n",
        "   return the number of destination nodes.\n",
        "\n",
        "   Since the first few source nodes of the yielded MFG are\n",
        "   always the same as the destination nodes, these statements obtain the\n",
        "   representations of the destination nodes on the previous layer. They are\n",
        "   then combined with neighbor aggregation in ``dgl.nn.SAGEConv`` layer.\n",
        "\n",
        "<div class=\"alert alert-info\"><h4>Note</h4><p>See the :doc:`custom message passing\n",
        "   tutorial <L4_message_passing>` for more details on how to\n",
        "   manipulate MFGs produced in this way, such as the usage\n",
        "   of ``num_dst_nodes``.</p></div>\n",
        "\n",
        "\n"
      ]
    },
    {
      "cell_type": "markdown",
      "metadata": {},
      "source": [
        "Defining Training Loop\n",
        "----------------------\n",
        "\n",
        "The following initializes the model and defines the optimizer.\n",
        "\n",
        "\n"
      ]
    },
    {
      "cell_type": "code",
      "execution_count": 51,
      "metadata": {
        "collapsed": false
      },
      "outputs": [],
      "source": [
        "opt = torch.optim.Adam(model.parameters())"
      ]
    },
    {
      "cell_type": "markdown",
      "metadata": {},
      "source": [
        "When computing the validation score for model selection, usually you can\n",
        "also do neighbor sampling. To do that, you need to define another data\n",
        "loader.\n",
        "\n",
        "\n"
      ]
    },
    {
      "cell_type": "code",
      "execution_count": 52,
      "metadata": {
        "collapsed": false
      },
      "outputs": [],
      "source": [
        "valid_dataloader = dgl.dataloading.DataLoader(\n",
        "    graph, valid_nids, sampler,\n",
        "    batch_size=1024,\n",
        "    shuffle=False,\n",
        "    drop_last=False,\n",
        "    num_workers=0,\n",
        "    device=device\n",
        ")"
      ]
    },
    {
      "cell_type": "markdown",
      "metadata": {},
      "source": [
        "The following is a training loop that performs validation every epoch.\n",
        "It also saves the model with the best validation accuracy into a file.\n",
        "\n",
        "\n"
      ]
    },
    {
      "cell_type": "code",
      "execution_count": 53,
      "metadata": {
        "collapsed": false
      },
      "outputs": [
        {
          "name": "stderr",
          "output_type": "stream",
          "text": [
            "100%|██████████| 89/89 [00:02<00:00, 29.85it/s, loss=1.718, acc=0.531]\n",
            "100%|██████████| 15/15 [00:00<00:00, 23.31it/s]\n"
          ]
        },
        {
          "name": "stdout",
          "output_type": "stream",
          "text": [
            "Epoch 0 Validation Accuracy 0.5645155877714018\n"
          ]
        },
        {
          "name": "stderr",
          "output_type": "stream",
          "text": [
            "100%|██████████| 89/89 [00:02<00:00, 33.30it/s, loss=1.401, acc=0.606]\n",
            "100%|██████████| 15/15 [00:00<00:00, 23.37it/s]\n",
            "100%|██████████| 89/89 [00:02<00:00, 33.77it/s, loss=1.272, acc=0.637]\n",
            "100%|██████████| 15/15 [00:00<00:00, 21.50it/s]\n",
            "100%|██████████| 89/89 [00:03<00:00, 27.87it/s, loss=1.272, acc=0.613]\n",
            "100%|██████████| 15/15 [00:00<00:00, 20.72it/s]\n",
            "100%|██████████| 89/89 [00:03<00:00, 28.97it/s, loss=1.207, acc=0.662]\n",
            "100%|██████████| 15/15 [00:00<00:00, 19.13it/s]\n",
            "100%|██████████| 89/89 [00:02<00:00, 31.43it/s, loss=1.193, acc=0.651]\n",
            "100%|██████████| 15/15 [00:00<00:00, 25.21it/s]\n",
            "100%|██████████| 89/89 [00:02<00:00, 33.35it/s, loss=1.120, acc=0.666]\n",
            "100%|██████████| 15/15 [00:00<00:00, 24.71it/s]\n",
            "100%|██████████| 89/89 [00:02<00:00, 29.98it/s, loss=1.087, acc=0.682]\n",
            "100%|██████████| 15/15 [00:00<00:00, 23.40it/s]\n",
            "100%|██████████| 89/89 [00:02<00:00, 32.28it/s, loss=1.183, acc=0.659]\n",
            "100%|██████████| 15/15 [00:00<00:00, 23.87it/s]\n",
            "100%|██████████| 89/89 [00:02<00:00, 32.62it/s, loss=1.111, acc=0.666]\n",
            "100%|██████████| 15/15 [00:00<00:00, 24.46it/s]\n",
            "100%|██████████| 89/89 [00:02<00:00, 33.84it/s, loss=1.089, acc=0.669]\n",
            "100%|██████████| 15/15 [00:00<00:00, 22.13it/s]\n"
          ]
        },
        {
          "name": "stdout",
          "output_type": "stream",
          "text": [
            "Epoch 10 Validation Accuracy 0.6688815060908084\n"
          ]
        },
        {
          "name": "stderr",
          "output_type": "stream",
          "text": [
            "100%|██████████| 89/89 [00:02<00:00, 30.51it/s, loss=1.190, acc=0.643]\n",
            "100%|██████████| 15/15 [00:00<00:00, 22.90it/s]\n",
            "100%|██████████| 89/89 [00:02<00:00, 34.59it/s, loss=1.061, acc=0.679]\n",
            "100%|██████████| 15/15 [00:00<00:00, 26.70it/s]\n",
            "100%|██████████| 89/89 [00:02<00:00, 34.73it/s, loss=1.062, acc=0.686]\n",
            "100%|██████████| 15/15 [00:00<00:00, 23.25it/s]\n",
            "100%|██████████| 89/89 [00:02<00:00, 34.00it/s, loss=1.105, acc=0.685]\n",
            "100%|██████████| 15/15 [00:00<00:00, 22.71it/s]\n",
            "100%|██████████| 89/89 [00:02<00:00, 34.40it/s, loss=1.025, acc=0.683]\n",
            "100%|██████████| 15/15 [00:00<00:00, 20.62it/s]\n",
            "100%|██████████| 89/89 [00:02<00:00, 35.11it/s, loss=1.056, acc=0.671]\n",
            "100%|██████████| 15/15 [00:00<00:00, 23.40it/s]\n",
            "100%|██████████| 89/89 [00:02<00:00, 33.56it/s, loss=1.049, acc=0.680]\n",
            "100%|██████████| 15/15 [00:00<00:00, 22.44it/s]\n",
            "100%|██████████| 89/89 [00:02<00:00, 33.82it/s, loss=1.133, acc=0.667]\n",
            "100%|██████████| 15/15 [00:00<00:00, 17.60it/s]\n",
            "100%|██████████| 89/89 [00:02<00:00, 33.57it/s, loss=1.041, acc=0.668]\n",
            "100%|██████████| 15/15 [00:00<00:00, 28.17it/s]\n",
            "100%|██████████| 89/89 [00:02<00:00, 31.94it/s, loss=0.963, acc=0.708]\n",
            "100%|██████████| 15/15 [00:00<00:00, 24.44it/s]\n"
          ]
        },
        {
          "name": "stdout",
          "output_type": "stream",
          "text": [
            "Epoch 20 Validation Accuracy 0.6682774589751334\n"
          ]
        },
        {
          "name": "stderr",
          "output_type": "stream",
          "text": [
            "100%|██████████| 89/89 [00:03<00:00, 28.74it/s, loss=0.970, acc=0.707]\n",
            "100%|██████████| 15/15 [00:00<00:00, 21.30it/s]\n",
            "100%|██████████| 89/89 [00:03<00:00, 28.53it/s, loss=0.994, acc=0.683]\n",
            "100%|██████████| 15/15 [00:00<00:00, 23.11it/s]\n",
            "100%|██████████| 89/89 [00:04<00:00, 19.83it/s, loss=1.063, acc=0.679]\n",
            "100%|██████████| 15/15 [00:00<00:00, 28.01it/s]\n",
            "100%|██████████| 89/89 [00:02<00:00, 35.94it/s, loss=0.956, acc=0.710]\n",
            "100%|██████████| 15/15 [00:00<00:00, 26.46it/s]\n",
            "100%|██████████| 89/89 [00:02<00:00, 29.86it/s, loss=1.024, acc=0.697]\n",
            "100%|██████████| 15/15 [00:00<00:00, 23.25it/s]\n",
            "100%|██████████| 89/89 [00:03<00:00, 23.52it/s, loss=1.015, acc=0.717]\n",
            "100%|██████████| 15/15 [00:01<00:00, 13.01it/s]\n",
            "100%|██████████| 89/89 [00:03<00:00, 23.42it/s, loss=1.013, acc=0.697]\n",
            "100%|██████████| 15/15 [00:00<00:00, 17.90it/s]\n",
            "100%|██████████| 89/89 [00:03<00:00, 26.18it/s, loss=1.003, acc=0.708]\n",
            "100%|██████████| 15/15 [00:00<00:00, 24.04it/s]\n",
            "100%|██████████| 89/89 [00:02<00:00, 33.82it/s, loss=1.046, acc=0.688]\n",
            "100%|██████████| 15/15 [00:00<00:00, 23.77it/s]\n",
            "100%|██████████| 89/89 [00:02<00:00, 31.99it/s, loss=0.919, acc=0.713]\n",
            "100%|██████████| 15/15 [00:00<00:00, 23.54it/s]\n"
          ]
        },
        {
          "name": "stdout",
          "output_type": "stream",
          "text": [
            "Epoch 30 Validation Accuracy 0.6788482834994463\n"
          ]
        },
        {
          "name": "stderr",
          "output_type": "stream",
          "text": [
            "100%|██████████| 89/89 [00:02<00:00, 32.20it/s, loss=0.959, acc=0.701]\n",
            "100%|██████████| 15/15 [00:00<00:00, 22.24it/s]\n",
            "100%|██████████| 89/89 [00:02<00:00, 32.74it/s, loss=0.980, acc=0.707]\n",
            "100%|██████████| 15/15 [00:00<00:00, 19.75it/s]\n",
            "100%|██████████| 89/89 [00:02<00:00, 33.46it/s, loss=0.980, acc=0.702]\n",
            "100%|██████████| 15/15 [00:00<00:00, 25.21it/s]\n",
            "100%|██████████| 89/89 [00:02<00:00, 31.68it/s, loss=0.913, acc=0.724]\n",
            "100%|██████████| 15/15 [00:00<00:00, 26.08it/s]\n",
            "100%|██████████| 89/89 [00:02<00:00, 31.94it/s, loss=1.013, acc=0.690]\n",
            "100%|██████████| 15/15 [00:00<00:00, 21.34it/s]\n",
            "100%|██████████| 89/89 [00:02<00:00, 31.64it/s, loss=0.902, acc=0.721]\n",
            "100%|██████████| 15/15 [00:00<00:00, 24.96it/s]\n",
            "100%|██████████| 89/89 [00:02<00:00, 31.11it/s, loss=0.954, acc=0.717]\n",
            "100%|██████████| 15/15 [00:00<00:00, 23.33it/s]\n",
            "100%|██████████| 89/89 [00:02<00:00, 33.23it/s, loss=1.019, acc=0.696]\n",
            "100%|██████████| 15/15 [00:00<00:00, 23.10it/s]\n",
            "100%|██████████| 89/89 [00:02<00:00, 31.88it/s, loss=0.920, acc=0.698]\n",
            "100%|██████████| 15/15 [00:00<00:00, 27.90it/s]\n",
            "100%|██████████| 89/89 [00:02<00:00, 30.79it/s, loss=0.988, acc=0.682]\n",
            "100%|██████████| 15/15 [00:00<00:00, 19.85it/s]\n"
          ]
        },
        {
          "name": "stdout",
          "output_type": "stream",
          "text": [
            "Epoch 40 Validation Accuracy 0.6796201214805866\n"
          ]
        },
        {
          "name": "stderr",
          "output_type": "stream",
          "text": [
            "100%|██████████| 89/89 [00:02<00:00, 31.84it/s, loss=0.939, acc=0.703]\n",
            "100%|██████████| 15/15 [00:00<00:00, 26.05it/s]\n",
            "100%|██████████| 89/89 [00:02<00:00, 31.86it/s, loss=0.969, acc=0.707]\n",
            "100%|██████████| 15/15 [00:00<00:00, 22.44it/s]\n",
            "100%|██████████| 89/89 [00:02<00:00, 31.47it/s, loss=1.041, acc=0.671]\n",
            "100%|██████████| 15/15 [00:00<00:00, 23.02it/s]\n",
            "100%|██████████| 89/89 [00:02<00:00, 33.15it/s, loss=0.943, acc=0.713]\n",
            "100%|██████████| 15/15 [00:00<00:00, 26.44it/s]\n",
            "100%|██████████| 89/89 [00:02<00:00, 31.99it/s, loss=0.951, acc=0.704]\n",
            "100%|██████████| 15/15 [00:00<00:00, 18.60it/s]\n",
            "100%|██████████| 89/89 [00:02<00:00, 30.63it/s, loss=0.897, acc=0.725]\n",
            "100%|██████████| 15/15 [00:00<00:00, 22.97it/s]\n",
            "100%|██████████| 89/89 [00:02<00:00, 30.62it/s, loss=0.952, acc=0.707]\n",
            "100%|██████████| 15/15 [00:00<00:00, 25.33it/s]\n",
            "100%|██████████| 89/89 [00:02<00:00, 30.71it/s, loss=0.965, acc=0.715]\n",
            "100%|██████████| 15/15 [00:00<00:00, 22.60it/s]\n",
            "100%|██████████| 89/89 [00:02<00:00, 31.23it/s, loss=0.909, acc=0.727]\n",
            "100%|██████████| 15/15 [00:00<00:00, 16.34it/s]\n",
            "100%|██████████| 89/89 [00:03<00:00, 23.86it/s, loss=0.957, acc=0.717]\n",
            "100%|██████████| 15/15 [00:01<00:00, 13.24it/s]\n"
          ]
        },
        {
          "name": "stdout",
          "output_type": "stream",
          "text": [
            "Epoch 50 Validation Accuracy 0.6813651464814255\n"
          ]
        },
        {
          "name": "stderr",
          "output_type": "stream",
          "text": [
            "100%|██████████| 89/89 [00:03<00:00, 22.34it/s, loss=0.977, acc=0.690]\n",
            "100%|██████████| 15/15 [00:00<00:00, 21.02it/s]\n",
            "100%|██████████| 89/89 [00:02<00:00, 30.58it/s, loss=0.889, acc=0.729]\n",
            "100%|██████████| 15/15 [00:00<00:00, 23.34it/s]\n",
            "100%|██████████| 89/89 [00:02<00:00, 30.30it/s, loss=0.971, acc=0.706]\n",
            "100%|██████████| 15/15 [00:00<00:00, 22.97it/s]\n",
            "100%|██████████| 89/89 [00:03<00:00, 29.59it/s, loss=0.876, acc=0.749]\n",
            "100%|██████████| 15/15 [00:00<00:00, 21.73it/s]\n",
            "100%|██████████| 89/89 [00:03<00:00, 28.74it/s, loss=0.936, acc=0.714]\n",
            "100%|██████████| 15/15 [00:00<00:00, 21.30it/s]\n",
            "100%|██████████| 89/89 [00:03<00:00, 28.79it/s, loss=0.966, acc=0.697]\n",
            "100%|██████████| 15/15 [00:00<00:00, 23.77it/s]\n",
            "100%|██████████| 89/89 [00:02<00:00, 30.86it/s, loss=0.880, acc=0.735]\n",
            "100%|██████████| 15/15 [00:00<00:00, 24.38it/s]\n",
            "100%|██████████| 89/89 [00:02<00:00, 30.45it/s, loss=0.885, acc=0.741]\n",
            "100%|██████████| 15/15 [00:00<00:00, 20.94it/s]\n",
            "100%|██████████| 89/89 [00:02<00:00, 30.16it/s, loss=0.875, acc=0.721]\n",
            "100%|██████████| 15/15 [00:00<00:00, 24.61it/s]\n",
            "100%|██████████| 89/89 [00:02<00:00, 31.51it/s, loss=0.973, acc=0.689]\n",
            "100%|██████████| 15/15 [00:00<00:00, 22.16it/s]\n"
          ]
        },
        {
          "name": "stdout",
          "output_type": "stream",
          "text": [
            "Epoch 60 Validation Accuracy 0.6819020772509145\n"
          ]
        },
        {
          "name": "stderr",
          "output_type": "stream",
          "text": [
            "100%|██████████| 89/89 [00:03<00:00, 29.44it/s, loss=0.882, acc=0.715]\n",
            "100%|██████████| 15/15 [00:00<00:00, 21.28it/s]\n",
            "100%|██████████| 89/89 [00:03<00:00, 29.58it/s, loss=0.902, acc=0.741]\n",
            "100%|██████████| 15/15 [00:00<00:00, 21.62it/s]\n",
            "100%|██████████| 89/89 [00:04<00:00, 21.71it/s, loss=0.929, acc=0.704]\n",
            "100%|██████████| 15/15 [00:00<00:00, 17.42it/s]\n",
            "100%|██████████| 89/89 [00:03<00:00, 28.54it/s, loss=0.966, acc=0.724]\n",
            "100%|██████████| 15/15 [00:00<00:00, 21.74it/s]\n",
            "100%|██████████| 89/89 [00:03<00:00, 26.67it/s, loss=0.804, acc=0.749]\n",
            "100%|██████████| 15/15 [00:01<00:00, 14.10it/s]\n",
            "100%|██████████| 89/89 [00:03<00:00, 22.81it/s, loss=0.901, acc=0.715]\n",
            "100%|██████████| 15/15 [00:00<00:00, 21.63it/s]\n",
            "100%|██████████| 89/89 [00:03<00:00, 24.84it/s, loss=0.881, acc=0.729]\n",
            "100%|██████████| 15/15 [00:00<00:00, 20.70it/s]\n",
            "100%|██████████| 89/89 [00:03<00:00, 22.80it/s, loss=0.884, acc=0.726]\n",
            "100%|██████████| 15/15 [00:00<00:00, 24.60it/s]\n",
            "100%|██████████| 89/89 [00:04<00:00, 21.27it/s, loss=0.852, acc=0.718]\n",
            "100%|██████████| 15/15 [00:00<00:00, 24.21it/s]\n",
            "100%|██████████| 89/89 [00:03<00:00, 28.01it/s, loss=0.944, acc=0.707]\n",
            "100%|██████████| 15/15 [00:00<00:00, 21.45it/s]\n"
          ]
        },
        {
          "name": "stdout",
          "output_type": "stream",
          "text": [
            "Epoch 70 Validation Accuracy 0.6788147253263532\n"
          ]
        },
        {
          "name": "stderr",
          "output_type": "stream",
          "text": [
            "100%|██████████| 89/89 [00:02<00:00, 29.75it/s, loss=0.831, acc=0.745]\n",
            "100%|██████████| 15/15 [00:00<00:00, 24.29it/s]\n",
            "100%|██████████| 89/89 [00:03<00:00, 29.04it/s, loss=0.855, acc=0.730]\n",
            "100%|██████████| 15/15 [00:00<00:00, 26.71it/s]\n",
            "100%|██████████| 89/89 [00:02<00:00, 31.36it/s, loss=0.991, acc=0.686]\n",
            "100%|██████████| 15/15 [00:00<00:00, 21.96it/s]\n",
            "100%|██████████| 89/89 [00:02<00:00, 32.51it/s, loss=0.852, acc=0.727]\n",
            "100%|██████████| 15/15 [00:00<00:00, 25.71it/s]\n",
            "100%|██████████| 89/89 [00:03<00:00, 29.45it/s, loss=0.883, acc=0.729]\n",
            "100%|██████████| 15/15 [00:00<00:00, 20.26it/s]\n",
            "100%|██████████| 89/89 [00:02<00:00, 30.82it/s, loss=0.844, acc=0.725]\n",
            "100%|██████████| 15/15 [00:00<00:00, 21.50it/s]\n",
            "100%|██████████| 89/89 [00:03<00:00, 23.61it/s, loss=0.890, acc=0.713]\n",
            "100%|██████████| 15/15 [00:01<00:00, 14.89it/s]\n",
            "100%|██████████| 89/89 [00:03<00:00, 26.19it/s, loss=0.917, acc=0.726]\n",
            "100%|██████████| 15/15 [00:00<00:00, 20.65it/s]\n",
            "100%|██████████| 89/89 [00:04<00:00, 18.69it/s, loss=0.898, acc=0.720]\n",
            "100%|██████████| 15/15 [00:00<00:00, 18.99it/s]\n",
            "100%|██████████| 89/89 [00:03<00:00, 26.06it/s, loss=0.944, acc=0.719]\n",
            "100%|██████████| 15/15 [00:00<00:00, 18.33it/s]\n"
          ]
        },
        {
          "name": "stdout",
          "output_type": "stream",
          "text": [
            "Epoch 80 Validation Accuracy 0.6819356354240075\n"
          ]
        },
        {
          "name": "stderr",
          "output_type": "stream",
          "text": [
            "100%|██████████| 89/89 [00:03<00:00, 26.11it/s, loss=0.887, acc=0.737]\n",
            "100%|██████████| 15/15 [00:00<00:00, 20.97it/s]\n",
            "100%|██████████| 89/89 [00:03<00:00, 26.09it/s, loss=0.868, acc=0.735]\n",
            "100%|██████████| 15/15 [00:00<00:00, 20.50it/s]\n",
            "100%|██████████| 89/89 [00:03<00:00, 26.03it/s, loss=0.848, acc=0.718]\n",
            "100%|██████████| 15/15 [00:00<00:00, 21.89it/s]\n",
            "100%|██████████| 89/89 [00:03<00:00, 24.47it/s, loss=0.847, acc=0.748]\n",
            "100%|██████████| 15/15 [00:00<00:00, 16.04it/s]\n",
            "100%|██████████| 89/89 [00:04<00:00, 19.27it/s, loss=0.852, acc=0.735]\n",
            "100%|██████████| 15/15 [00:00<00:00, 19.31it/s]\n",
            "100%|██████████| 89/89 [00:03<00:00, 27.34it/s, loss=0.863, acc=0.730]\n",
            "100%|██████████| 15/15 [00:00<00:00, 22.60it/s]\n",
            "100%|██████████| 89/89 [00:03<00:00, 27.59it/s, loss=0.858, acc=0.736]\n",
            "100%|██████████| 15/15 [00:00<00:00, 17.86it/s]\n",
            "100%|██████████| 89/89 [00:03<00:00, 23.90it/s, loss=0.899, acc=0.723]\n",
            "100%|██████████| 15/15 [00:00<00:00, 18.94it/s]\n",
            "100%|██████████| 89/89 [00:03<00:00, 22.47it/s, loss=0.924, acc=0.707]\n",
            "100%|██████████| 15/15 [00:00<00:00, 20.48it/s]\n",
            "100%|██████████| 89/89 [00:03<00:00, 28.89it/s, loss=0.823, acc=0.748]\n",
            "100%|██████████| 15/15 [00:00<00:00, 23.66it/s]\n"
          ]
        },
        {
          "name": "stdout",
          "output_type": "stream",
          "text": [
            "Epoch 90 Validation Accuracy 0.6842511493674285\n"
          ]
        },
        {
          "name": "stderr",
          "output_type": "stream",
          "text": [
            "100%|██████████| 89/89 [00:02<00:00, 31.12it/s, loss=0.825, acc=0.743]\n",
            "100%|██████████| 15/15 [00:00<00:00, 25.43it/s]\n",
            "100%|██████████| 89/89 [00:02<00:00, 30.77it/s, loss=0.844, acc=0.753]\n",
            "100%|██████████| 15/15 [00:00<00:00, 22.89it/s]\n",
            "100%|██████████| 89/89 [00:02<00:00, 31.05it/s, loss=0.828, acc=0.730]\n",
            "100%|██████████| 15/15 [00:00<00:00, 22.49it/s]\n",
            "100%|██████████| 89/89 [00:02<00:00, 29.71it/s, loss=0.913, acc=0.701]\n",
            "100%|██████████| 15/15 [00:00<00:00, 20.54it/s]\n",
            "100%|██████████| 89/89 [00:02<00:00, 30.09it/s, loss=0.816, acc=0.739]\n",
            "100%|██████████| 15/15 [00:00<00:00, 21.78it/s]\n",
            "100%|██████████| 89/89 [00:02<00:00, 30.84it/s, loss=0.956, acc=0.704]\n",
            "100%|██████████| 15/15 [00:00<00:00, 20.53it/s]\n",
            "100%|██████████| 89/89 [00:02<00:00, 30.62it/s, loss=0.839, acc=0.735]\n",
            "100%|██████████| 15/15 [00:00<00:00, 24.73it/s]\n",
            "100%|██████████| 89/89 [00:02<00:00, 30.30it/s, loss=0.898, acc=0.720]\n",
            "100%|██████████| 15/15 [00:00<00:00, 22.58it/s]\n",
            "100%|██████████| 89/89 [00:02<00:00, 30.14it/s, loss=0.845, acc=0.735]\n",
            "100%|██████████| 15/15 [00:00<00:00, 25.10it/s]\n",
            "100%|██████████| 89/89 [00:02<00:00, 30.07it/s, loss=0.836, acc=0.732]\n",
            "100%|██████████| 15/15 [00:00<00:00, 21.34it/s]\n"
          ]
        },
        {
          "name": "stdout",
          "output_type": "stream",
          "text": [
            "Epoch 100 Validation Accuracy 0.6820698681163797\n"
          ]
        },
        {
          "name": "stderr",
          "output_type": "stream",
          "text": [
            "100%|██████████| 89/89 [00:02<00:00, 30.92it/s, loss=0.910, acc=0.718]\n",
            "100%|██████████| 15/15 [00:00<00:00, 24.64it/s]\n",
            "100%|██████████| 89/89 [00:02<00:00, 31.51it/s, loss=0.853, acc=0.732]\n",
            "100%|██████████| 15/15 [00:00<00:00, 23.05it/s]\n",
            "100%|██████████| 89/89 [00:02<00:00, 30.29it/s, loss=0.924, acc=0.710]\n",
            "100%|██████████| 15/15 [00:00<00:00, 25.17it/s]\n",
            "100%|██████████| 89/89 [00:02<00:00, 30.62it/s, loss=0.884, acc=0.727]\n",
            "100%|██████████| 15/15 [00:00<00:00, 21.51it/s]\n",
            "100%|██████████| 89/89 [00:02<00:00, 31.42it/s, loss=0.908, acc=0.712]\n",
            "100%|██████████| 15/15 [00:00<00:00, 23.65it/s]\n",
            "100%|██████████| 89/89 [00:02<00:00, 31.23it/s, loss=0.979, acc=0.702]\n",
            "100%|██████████| 15/15 [00:00<00:00, 26.92it/s]\n",
            "100%|██████████| 89/89 [00:02<00:00, 30.70it/s, loss=0.899, acc=0.727]\n",
            "100%|██████████| 15/15 [00:00<00:00, 24.70it/s]\n",
            "100%|██████████| 89/89 [00:02<00:00, 30.72it/s, loss=0.860, acc=0.713]\n",
            "100%|██████████| 15/15 [00:00<00:00, 22.34it/s]\n",
            "100%|██████████| 89/89 [00:02<00:00, 29.78it/s, loss=0.840, acc=0.735]\n",
            "100%|██████████| 15/15 [00:00<00:00, 24.33it/s]\n",
            "100%|██████████| 89/89 [00:02<00:00, 30.71it/s, loss=0.852, acc=0.738]\n",
            "100%|██████████| 15/15 [00:00<00:00, 24.33it/s]\n"
          ]
        },
        {
          "name": "stdout",
          "output_type": "stream",
          "text": [
            "Epoch 110 Validation Accuracy 0.6846538474445452\n"
          ]
        },
        {
          "name": "stderr",
          "output_type": "stream",
          "text": [
            "100%|██████████| 89/89 [00:02<00:00, 29.82it/s, loss=0.875, acc=0.726]\n",
            "100%|██████████| 15/15 [00:00<00:00, 23.38it/s]\n",
            "100%|██████████| 89/89 [00:02<00:00, 30.51it/s, loss=0.827, acc=0.758]\n",
            "100%|██████████| 15/15 [00:00<00:00, 22.39it/s]\n",
            "100%|██████████| 89/89 [00:02<00:00, 30.63it/s, loss=0.832, acc=0.730]\n",
            "100%|██████████| 15/15 [00:00<00:00, 23.65it/s]\n",
            "100%|██████████| 89/89 [00:02<00:00, 30.74it/s, loss=0.900, acc=0.724]\n",
            "100%|██████████| 15/15 [00:00<00:00, 20.43it/s]\n",
            "100%|██████████| 89/89 [00:02<00:00, 30.35it/s, loss=0.879, acc=0.713]\n",
            "100%|██████████| 15/15 [00:00<00:00, 23.84it/s]\n",
            "100%|██████████| 89/89 [00:02<00:00, 31.30it/s, loss=0.843, acc=0.732]\n",
            "100%|██████████| 15/15 [00:00<00:00, 21.77it/s]\n",
            "100%|██████████| 89/89 [00:02<00:00, 31.30it/s, loss=0.870, acc=0.733]\n",
            "100%|██████████| 15/15 [00:00<00:00, 25.78it/s]\n",
            "100%|██████████| 89/89 [00:02<00:00, 30.64it/s, loss=0.879, acc=0.739]\n",
            "100%|██████████| 15/15 [00:00<00:00, 23.18it/s]\n",
            "100%|██████████| 89/89 [00:02<00:00, 31.74it/s, loss=0.819, acc=0.744]\n",
            "100%|██████████| 15/15 [00:00<00:00, 23.16it/s]\n",
            "100%|██████████| 89/89 [00:02<00:00, 31.10it/s, loss=0.879, acc=0.729]\n",
            "100%|██████████| 15/15 [00:00<00:00, 25.26it/s]\n"
          ]
        },
        {
          "name": "stdout",
          "output_type": "stream",
          "text": [
            "Epoch 120 Validation Accuracy 0.6820363099432867\n"
          ]
        },
        {
          "name": "stderr",
          "output_type": "stream",
          "text": [
            "100%|██████████| 89/89 [00:02<00:00, 31.26it/s, loss=0.898, acc=0.704]\n",
            "100%|██████████| 15/15 [00:00<00:00, 23.91it/s]\n",
            "100%|██████████| 89/89 [00:02<00:00, 30.27it/s, loss=0.794, acc=0.742]\n",
            "100%|██████████| 15/15 [00:00<00:00, 24.45it/s]\n",
            "100%|██████████| 89/89 [00:02<00:00, 30.02it/s, loss=0.808, acc=0.738]\n",
            "100%|██████████| 15/15 [00:00<00:00, 22.80it/s]\n",
            "100%|██████████| 89/89 [00:02<00:00, 31.38it/s, loss=0.889, acc=0.713]\n",
            "100%|██████████| 15/15 [00:00<00:00, 22.01it/s]\n",
            "100%|██████████| 89/89 [00:02<00:00, 29.95it/s, loss=0.874, acc=0.720]\n",
            "100%|██████████| 15/15 [00:00<00:00, 23.72it/s]\n",
            "100%|██████████| 89/89 [00:02<00:00, 30.71it/s, loss=0.836, acc=0.724]\n",
            "100%|██████████| 15/15 [00:00<00:00, 25.41it/s]\n",
            "100%|██████████| 89/89 [00:02<00:00, 30.89it/s, loss=0.822, acc=0.748]\n",
            "100%|██████████| 15/15 [00:00<00:00, 23.74it/s]\n",
            "100%|██████████| 89/89 [00:02<00:00, 31.13it/s, loss=0.808, acc=0.733]\n",
            "100%|██████████| 15/15 [00:00<00:00, 24.66it/s]\n",
            "100%|██████████| 89/89 [00:02<00:00, 30.15it/s, loss=0.809, acc=0.744]\n",
            "100%|██████████| 15/15 [00:00<00:00, 22.72it/s]\n",
            "100%|██████████| 89/89 [00:03<00:00, 29.27it/s, loss=0.761, acc=0.768]\n",
            "100%|██████████| 15/15 [00:00<00:00, 20.91it/s]\n"
          ]
        },
        {
          "name": "stdout",
          "output_type": "stream",
          "text": [
            "Epoch 130 Validation Accuracy 0.6773381657102587\n"
          ]
        },
        {
          "name": "stderr",
          "output_type": "stream",
          "text": [
            "100%|██████████| 89/89 [00:04<00:00, 22.19it/s, loss=0.883, acc=0.724]\n",
            "100%|██████████| 15/15 [00:00<00:00, 18.12it/s]\n",
            "100%|██████████| 89/89 [00:02<00:00, 31.51it/s, loss=0.838, acc=0.747]\n",
            "100%|██████████| 15/15 [00:00<00:00, 24.63it/s]\n",
            "100%|██████████| 89/89 [00:03<00:00, 28.06it/s, loss=0.868, acc=0.721]\n",
            "100%|██████████| 15/15 [00:01<00:00, 14.60it/s]\n",
            "100%|██████████| 89/89 [00:03<00:00, 22.42it/s, loss=0.863, acc=0.731]\n",
            "100%|██████████| 15/15 [00:00<00:00, 26.23it/s]\n",
            "100%|██████████| 89/89 [00:03<00:00, 29.50it/s, loss=0.801, acc=0.741]\n",
            "100%|██████████| 15/15 [00:00<00:00, 22.13it/s]\n",
            "100%|██████████| 89/89 [00:03<00:00, 29.41it/s, loss=0.832, acc=0.752]\n",
            "100%|██████████| 15/15 [00:00<00:00, 22.57it/s]\n",
            "100%|██████████| 89/89 [00:03<00:00, 26.28it/s, loss=0.780, acc=0.754]\n",
            "100%|██████████| 15/15 [00:00<00:00, 21.82it/s]\n",
            "100%|██████████| 89/89 [00:04<00:00, 21.73it/s, loss=0.777, acc=0.752]\n",
            "100%|██████████| 15/15 [00:00<00:00, 23.43it/s]\n",
            "100%|██████████| 89/89 [00:03<00:00, 26.82it/s, loss=0.773, acc=0.767]\n",
            "100%|██████████| 15/15 [00:00<00:00, 18.66it/s]\n",
            "100%|██████████| 89/89 [00:03<00:00, 29.44it/s, loss=0.752, acc=0.750]\n",
            "100%|██████████| 15/15 [00:00<00:00, 21.67it/s]\n"
          ]
        },
        {
          "name": "stdout",
          "output_type": "stream",
          "text": [
            "Epoch 140 Validation Accuracy 0.6756266988825128\n"
          ]
        },
        {
          "name": "stderr",
          "output_type": "stream",
          "text": [
            "100%|██████████| 89/89 [00:03<00:00, 29.52it/s, loss=0.866, acc=0.720]\n",
            "100%|██████████| 15/15 [00:01<00:00, 14.51it/s]\n",
            "100%|██████████| 89/89 [00:03<00:00, 25.91it/s, loss=0.803, acc=0.752]\n",
            "100%|██████████| 15/15 [00:00<00:00, 22.38it/s]\n",
            "100%|██████████| 89/89 [00:02<00:00, 29.86it/s, loss=0.801, acc=0.762]\n",
            "100%|██████████| 15/15 [00:00<00:00, 21.59it/s]\n",
            "100%|██████████| 89/89 [00:02<00:00, 30.35it/s, loss=0.854, acc=0.725]\n",
            "100%|██████████| 15/15 [00:00<00:00, 24.41it/s]\n",
            "100%|██████████| 89/89 [00:03<00:00, 26.97it/s, loss=0.754, acc=0.755]\n",
            "100%|██████████| 15/15 [00:00<00:00, 18.84it/s]\n",
            "100%|██████████| 89/89 [00:03<00:00, 26.92it/s, loss=0.788, acc=0.738]\n",
            "100%|██████████| 15/15 [00:00<00:00, 23.43it/s]\n",
            "100%|██████████| 89/89 [00:03<00:00, 28.93it/s, loss=0.753, acc=0.759]\n",
            "100%|██████████| 15/15 [00:00<00:00, 20.46it/s]\n",
            "100%|██████████| 89/89 [00:03<00:00, 28.09it/s, loss=0.858, acc=0.723]\n",
            "100%|██████████| 15/15 [00:00<00:00, 19.20it/s]\n",
            "100%|██████████| 89/89 [00:03<00:00, 28.59it/s, loss=0.790, acc=0.747]\n",
            "100%|██████████| 15/15 [00:00<00:00, 22.21it/s]\n",
            "100%|██████████| 89/89 [00:03<00:00, 28.89it/s, loss=0.815, acc=0.745]\n",
            "100%|██████████| 15/15 [00:00<00:00, 23.57it/s]\n"
          ]
        },
        {
          "name": "stdout",
          "output_type": "stream",
          "text": [
            "Epoch 150 Validation Accuracy 0.6824054498473103\n"
          ]
        },
        {
          "name": "stderr",
          "output_type": "stream",
          "text": [
            "100%|██████████| 89/89 [00:03<00:00, 29.20it/s, loss=0.835, acc=0.727]\n",
            "100%|██████████| 15/15 [00:00<00:00, 24.92it/s]\n",
            "100%|██████████| 89/89 [00:02<00:00, 30.47it/s, loss=0.832, acc=0.738]\n",
            "100%|██████████| 15/15 [00:00<00:00, 20.26it/s]\n",
            "100%|██████████| 89/89 [00:03<00:00, 29.29it/s, loss=0.784, acc=0.736]\n",
            "100%|██████████| 15/15 [00:00<00:00, 24.35it/s]\n",
            "100%|██████████| 89/89 [00:03<00:00, 28.86it/s, loss=0.775, acc=0.764]\n",
            "100%|██████████| 15/15 [00:00<00:00, 23.37it/s]\n",
            "100%|██████████| 89/89 [00:03<00:00, 29.33it/s, loss=0.869, acc=0.714]\n",
            "100%|██████████| 15/15 [00:00<00:00, 20.65it/s]\n",
            "100%|██████████| 89/89 [00:03<00:00, 29.32it/s, loss=0.726, acc=0.785]\n",
            "100%|██████████| 15/15 [00:00<00:00, 24.62it/s]\n",
            "100%|██████████| 89/89 [00:02<00:00, 29.72it/s, loss=0.805, acc=0.753]\n",
            "100%|██████████| 15/15 [00:00<00:00, 21.55it/s]\n",
            "100%|██████████| 89/89 [00:03<00:00, 28.65it/s, loss=0.806, acc=0.750]\n",
            "100%|██████████| 15/15 [00:00<00:00, 21.34it/s]\n",
            "100%|██████████| 89/89 [00:03<00:00, 29.13it/s, loss=0.737, acc=0.743]\n",
            "100%|██████████| 15/15 [00:00<00:00, 22.19it/s]\n",
            "100%|██████████| 89/89 [00:03<00:00, 29.59it/s, loss=0.797, acc=0.747]\n",
            "100%|██████████| 15/15 [00:00<00:00, 21.05it/s]\n"
          ]
        },
        {
          "name": "stdout",
          "output_type": "stream",
          "text": [
            "Epoch 160 Validation Accuracy 0.682808147924427\n"
          ]
        },
        {
          "name": "stderr",
          "output_type": "stream",
          "text": [
            "100%|██████████| 89/89 [00:03<00:00, 22.32it/s, loss=0.866, acc=0.707]\n",
            "100%|██████████| 15/15 [00:00<00:00, 21.00it/s]\n",
            "100%|██████████| 89/89 [00:03<00:00, 25.05it/s, loss=0.783, acc=0.762]\n",
            "100%|██████████| 15/15 [00:00<00:00, 20.88it/s]\n",
            "100%|██████████| 89/89 [00:04<00:00, 20.56it/s, loss=0.762, acc=0.759]\n",
            "100%|██████████| 15/15 [00:00<00:00, 20.46it/s]\n",
            "100%|██████████| 89/89 [00:03<00:00, 29.45it/s, loss=0.758, acc=0.767]\n",
            "100%|██████████| 15/15 [00:00<00:00, 20.65it/s]\n",
            "100%|██████████| 89/89 [00:02<00:00, 30.24it/s, loss=0.809, acc=0.731]\n",
            "100%|██████████| 15/15 [00:00<00:00, 22.50it/s]\n",
            "100%|██████████| 89/89 [00:02<00:00, 30.08it/s, loss=0.770, acc=0.742]\n",
            "100%|██████████| 15/15 [00:00<00:00, 20.46it/s]\n",
            "100%|██████████| 89/89 [00:02<00:00, 29.70it/s, loss=0.770, acc=0.752]\n",
            "100%|██████████| 15/15 [00:00<00:00, 16.89it/s]\n",
            "100%|██████████| 89/89 [00:03<00:00, 23.06it/s, loss=0.743, acc=0.771]\n",
            "100%|██████████| 15/15 [00:00<00:00, 19.61it/s]\n",
            "100%|██████████| 89/89 [00:03<00:00, 29.42it/s, loss=0.821, acc=0.735]\n",
            "100%|██████████| 15/15 [00:00<00:00, 20.62it/s]\n",
            "100%|██████████| 89/89 [00:03<00:00, 29.31it/s, loss=0.770, acc=0.754]\n",
            "100%|██████████| 15/15 [00:00<00:00, 22.28it/s]\n"
          ]
        },
        {
          "name": "stdout",
          "output_type": "stream",
          "text": [
            "Epoch 170 Validation Accuracy 0.679855028692238\n"
          ]
        },
        {
          "name": "stderr",
          "output_type": "stream",
          "text": [
            "100%|██████████| 89/89 [00:03<00:00, 28.97it/s, loss=0.790, acc=0.770]\n",
            "100%|██████████| 15/15 [00:00<00:00, 22.30it/s]\n",
            "100%|██████████| 89/89 [00:03<00:00, 27.75it/s, loss=0.725, acc=0.764]\n",
            "100%|██████████| 15/15 [00:00<00:00, 21.49it/s]\n",
            "100%|██████████| 89/89 [00:02<00:00, 29.97it/s, loss=0.758, acc=0.750]\n",
            "100%|██████████| 15/15 [00:00<00:00, 22.10it/s]\n",
            "100%|██████████| 89/89 [00:03<00:00, 29.01it/s, loss=0.725, acc=0.778]\n",
            "100%|██████████| 15/15 [00:00<00:00, 21.15it/s]\n",
            "100%|██████████| 89/89 [00:03<00:00, 26.66it/s, loss=0.771, acc=0.756]\n",
            "100%|██████████| 15/15 [00:00<00:00, 24.14it/s]\n",
            "100%|██████████| 89/89 [00:03<00:00, 28.24it/s, loss=0.838, acc=0.726]\n",
            "100%|██████████| 15/15 [00:00<00:00, 20.72it/s]\n",
            "100%|██████████| 89/89 [00:02<00:00, 30.47it/s, loss=0.783, acc=0.761]\n",
            "100%|██████████| 15/15 [00:00<00:00, 21.25it/s]\n",
            "100%|██████████| 89/89 [00:03<00:00, 29.36it/s, loss=0.690, acc=0.789]\n",
            "100%|██████████| 15/15 [00:00<00:00, 22.43it/s]\n",
            "100%|██████████| 89/89 [00:03<00:00, 29.50it/s, loss=0.787, acc=0.759]\n",
            "100%|██████████| 15/15 [00:00<00:00, 22.13it/s]\n",
            "100%|██████████| 89/89 [00:03<00:00, 29.58it/s, loss=0.781, acc=0.752]\n",
            "100%|██████████| 15/15 [00:00<00:00, 22.39it/s]\n"
          ]
        },
        {
          "name": "stdout",
          "output_type": "stream",
          "text": [
            "Epoch 180 Validation Accuracy 0.6773046075371657\n"
          ]
        },
        {
          "name": "stderr",
          "output_type": "stream",
          "text": [
            "100%|██████████| 89/89 [00:03<00:00, 29.30it/s, loss=0.823, acc=0.744]\n",
            "100%|██████████| 15/15 [00:00<00:00, 23.40it/s]\n",
            "100%|██████████| 89/89 [00:02<00:00, 29.81it/s, loss=0.761, acc=0.752]\n",
            "100%|██████████| 15/15 [00:00<00:00, 22.81it/s]\n",
            "100%|██████████| 89/89 [00:03<00:00, 26.68it/s, loss=0.800, acc=0.737]\n",
            "100%|██████████| 15/15 [00:00<00:00, 18.62it/s]\n",
            "100%|██████████| 89/89 [00:02<00:00, 30.21it/s, loss=0.767, acc=0.748]\n",
            "100%|██████████| 15/15 [00:00<00:00, 20.28it/s]\n",
            "100%|██████████| 89/89 [00:04<00:00, 19.50it/s, loss=0.763, acc=0.759]\n",
            "100%|██████████| 15/15 [00:01<00:00, 13.34it/s]\n",
            "100%|██████████| 89/89 [00:04<00:00, 18.22it/s, loss=0.732, acc=0.774]\n",
            "100%|██████████| 15/15 [00:01<00:00,  7.77it/s]\n",
            "100%|██████████| 89/89 [00:05<00:00, 15.05it/s, loss=0.725, acc=0.756]\n",
            "100%|██████████| 15/15 [00:00<00:00, 16.10it/s]\n",
            "100%|██████████| 89/89 [00:04<00:00, 21.79it/s, loss=0.743, acc=0.774]\n",
            "100%|██████████| 15/15 [00:00<00:00, 18.14it/s]\n",
            "100%|██████████| 89/89 [00:03<00:00, 24.72it/s, loss=0.744, acc=0.773]\n",
            "100%|██████████| 15/15 [00:00<00:00, 19.48it/s]\n",
            "100%|██████████| 89/89 [00:03<00:00, 25.57it/s, loss=0.730, acc=0.767]\n",
            "100%|██████████| 15/15 [00:00<00:00, 19.27it/s]\n"
          ]
        },
        {
          "name": "stdout",
          "output_type": "stream",
          "text": [
            "Epoch 190 Validation Accuracy 0.676331420517467\n"
          ]
        },
        {
          "name": "stderr",
          "output_type": "stream",
          "text": [
            "100%|██████████| 89/89 [00:03<00:00, 28.16it/s, loss=0.794, acc=0.730]\n",
            "100%|██████████| 15/15 [00:00<00:00, 21.45it/s]\n",
            "100%|██████████| 89/89 [00:02<00:00, 30.15it/s, loss=0.813, acc=0.738]\n",
            "100%|██████████| 15/15 [00:00<00:00, 27.20it/s]\n",
            "100%|██████████| 89/89 [00:03<00:00, 27.56it/s, loss=0.818, acc=0.736]\n",
            "100%|██████████| 15/15 [00:00<00:00, 23.97it/s]\n",
            "100%|██████████| 89/89 [00:02<00:00, 31.99it/s, loss=0.782, acc=0.764]\n",
            "100%|██████████| 15/15 [00:00<00:00, 26.21it/s]\n",
            "100%|██████████| 89/89 [00:03<00:00, 26.35it/s, loss=0.725, acc=0.779]\n",
            "100%|██████████| 15/15 [00:01<00:00, 13.83it/s]\n",
            "100%|██████████| 89/89 [00:03<00:00, 26.23it/s, loss=0.757, acc=0.762]\n",
            "100%|██████████| 15/15 [00:00<00:00, 20.97it/s]\n",
            "100%|██████████| 89/89 [00:02<00:00, 30.54it/s, loss=0.786, acc=0.743]\n",
            "100%|██████████| 15/15 [00:00<00:00, 23.61it/s]\n",
            "100%|██████████| 89/89 [00:03<00:00, 26.73it/s, loss=0.727, acc=0.766]\n",
            "100%|██████████| 15/15 [00:00<00:00, 19.46it/s]\n",
            "100%|██████████| 89/89 [00:03<00:00, 25.91it/s, loss=0.838, acc=0.745]\n",
            "100%|██████████| 15/15 [00:00<00:00, 26.23it/s]\n",
            "100%|██████████| 89/89 [00:03<00:00, 24.16it/s, loss=0.754, acc=0.753]\n",
            "100%|██████████| 15/15 [00:00<00:00, 17.08it/s]\n"
          ]
        },
        {
          "name": "stdout",
          "output_type": "stream",
          "text": [
            "Epoch 200 Validation Accuracy 0.6765663277291184\n"
          ]
        },
        {
          "name": "stderr",
          "output_type": "stream",
          "text": [
            "100%|██████████| 89/89 [00:03<00:00, 26.45it/s, loss=0.745, acc=0.767]\n",
            "100%|██████████| 15/15 [00:00<00:00, 19.48it/s]\n",
            "100%|██████████| 89/89 [00:03<00:00, 27.26it/s, loss=0.706, acc=0.765]\n",
            "100%|██████████| 15/15 [00:00<00:00, 19.04it/s]\n",
            "100%|██████████| 89/89 [00:03<00:00, 27.51it/s, loss=0.770, acc=0.748]\n",
            "100%|██████████| 15/15 [00:00<00:00, 25.47it/s]\n",
            "100%|██████████| 89/89 [00:02<00:00, 31.58it/s, loss=0.710, acc=0.764]\n",
            "100%|██████████| 15/15 [00:00<00:00, 29.78it/s]\n",
            "100%|██████████| 89/89 [00:04<00:00, 20.73it/s, loss=0.815, acc=0.753]\n",
            "100%|██████████| 15/15 [00:00<00:00, 22.17it/s]\n",
            "100%|██████████| 89/89 [00:02<00:00, 29.83it/s, loss=0.836, acc=0.741]\n",
            "100%|██████████| 15/15 [00:00<00:00, 24.34it/s]\n",
            "100%|██████████| 89/89 [00:02<00:00, 30.34it/s, loss=0.741, acc=0.768]\n",
            "100%|██████████| 15/15 [00:00<00:00, 20.89it/s]\n",
            "100%|██████████| 89/89 [00:05<00:00, 16.81it/s, loss=0.807, acc=0.741]\n",
            "100%|██████████| 15/15 [00:00<00:00, 18.61it/s]\n",
            "100%|██████████| 89/89 [00:03<00:00, 24.04it/s, loss=0.747, acc=0.764]\n",
            "100%|██████████| 15/15 [00:00<00:00, 21.23it/s]\n",
            "100%|██████████| 89/89 [00:03<00:00, 26.39it/s, loss=0.693, acc=0.766]\n",
            "100%|██████████| 15/15 [00:00<00:00, 24.34it/s]\n"
          ]
        },
        {
          "name": "stdout",
          "output_type": "stream",
          "text": [
            "Epoch 210 Validation Accuracy 0.6776401892680962\n"
          ]
        },
        {
          "name": "stderr",
          "output_type": "stream",
          "text": [
            "100%|██████████| 89/89 [00:03<00:00, 28.95it/s, loss=0.783, acc=0.748]\n",
            "100%|██████████| 15/15 [00:00<00:00, 21.91it/s]\n",
            "100%|██████████| 89/89 [00:03<00:00, 29.02it/s, loss=0.736, acc=0.776]\n",
            "100%|██████████| 15/15 [00:00<00:00, 20.43it/s]\n",
            "100%|██████████| 89/89 [00:02<00:00, 30.23it/s, loss=0.735, acc=0.764]\n",
            "100%|██████████| 15/15 [00:00<00:00, 20.65it/s]\n",
            "100%|██████████| 89/89 [00:02<00:00, 31.10it/s, loss=0.756, acc=0.759]\n",
            "100%|██████████| 15/15 [00:00<00:00, 25.89it/s]\n",
            "100%|██████████| 89/89 [00:02<00:00, 30.09it/s, loss=0.764, acc=0.770]\n",
            "100%|██████████| 15/15 [00:00<00:00, 24.08it/s]\n",
            "100%|██████████| 89/89 [00:03<00:00, 23.77it/s, loss=0.725, acc=0.756]\n",
            "100%|██████████| 15/15 [00:00<00:00, 19.94it/s]\n",
            "100%|██████████| 89/89 [00:03<00:00, 28.06it/s, loss=0.779, acc=0.760]\n",
            "100%|██████████| 15/15 [00:00<00:00, 18.33it/s]\n",
            "100%|██████████| 89/89 [00:03<00:00, 27.24it/s, loss=0.700, acc=0.778]\n",
            "100%|██████████| 15/15 [00:00<00:00, 20.99it/s]\n",
            "100%|██████████| 89/89 [00:03<00:00, 27.50it/s, loss=0.775, acc=0.755]\n",
            "100%|██████████| 15/15 [00:00<00:00, 21.81it/s]\n",
            "100%|██████████| 89/89 [00:04<00:00, 20.21it/s, loss=0.749, acc=0.764]\n",
            "100%|██████████| 15/15 [00:01<00:00, 14.60it/s]\n"
          ]
        },
        {
          "name": "stdout",
          "output_type": "stream",
          "text": [
            "Epoch 220 Validation Accuracy 0.6758951642672573\n"
          ]
        },
        {
          "name": "stderr",
          "output_type": "stream",
          "text": [
            "100%|██████████| 89/89 [00:04<00:00, 20.17it/s, loss=0.849, acc=0.738]\n",
            "100%|██████████| 15/15 [00:00<00:00, 16.72it/s]\n",
            "100%|██████████| 89/89 [00:04<00:00, 20.99it/s, loss=0.760, acc=0.750]\n",
            "100%|██████████| 15/15 [00:01<00:00, 14.74it/s]\n",
            "100%|██████████| 89/89 [00:04<00:00, 20.72it/s, loss=0.706, acc=0.774]\n",
            "100%|██████████| 15/15 [00:00<00:00, 20.39it/s]\n",
            "100%|██████████| 89/89 [00:03<00:00, 22.84it/s, loss=0.723, acc=0.768]\n",
            "100%|██████████| 15/15 [00:00<00:00, 17.86it/s]\n",
            "100%|██████████| 89/89 [00:04<00:00, 22.10it/s, loss=0.866, acc=0.741]\n",
            "100%|██████████| 15/15 [00:00<00:00, 16.16it/s]\n",
            "100%|██████████| 89/89 [00:03<00:00, 26.43it/s, loss=0.836, acc=0.755]\n",
            "100%|██████████| 15/15 [00:00<00:00, 23.59it/s]\n",
            "100%|██████████| 89/89 [00:03<00:00, 26.09it/s, loss=0.769, acc=0.753]\n",
            "100%|██████████| 15/15 [00:00<00:00, 24.51it/s]\n",
            "100%|██████████| 89/89 [00:03<00:00, 27.12it/s, loss=0.724, acc=0.771]\n",
            "100%|██████████| 15/15 [00:00<00:00, 20.76it/s]\n",
            "100%|██████████| 89/89 [00:03<00:00, 24.79it/s, loss=0.732, acc=0.773]\n",
            "100%|██████████| 15/15 [00:01<00:00, 14.09it/s]\n",
            "100%|██████████| 89/89 [00:05<00:00, 16.52it/s, loss=0.776, acc=0.747]\n",
            "100%|██████████| 15/15 [00:01<00:00, 12.07it/s]\n"
          ]
        },
        {
          "name": "stdout",
          "output_type": "stream",
          "text": [
            "Epoch 230 Validation Accuracy 0.6759958387865365\n"
          ]
        },
        {
          "name": "stderr",
          "output_type": "stream",
          "text": [
            "100%|██████████| 89/89 [00:05<00:00, 17.15it/s, loss=0.801, acc=0.750]\n",
            "100%|██████████| 15/15 [00:01<00:00, 13.22it/s]\n",
            "100%|██████████| 89/89 [00:04<00:00, 18.79it/s, loss=0.740, acc=0.768]\n",
            "100%|██████████| 15/15 [00:00<00:00, 17.26it/s]\n",
            "100%|██████████| 89/89 [00:04<00:00, 21.63it/s, loss=0.687, acc=0.774]\n",
            "100%|██████████| 15/15 [00:00<00:00, 17.82it/s]\n",
            "100%|██████████| 89/89 [00:04<00:00, 20.30it/s, loss=0.799, acc=0.747]\n",
            "100%|██████████| 15/15 [00:01<00:00, 12.56it/s]\n",
            "100%|██████████| 89/89 [00:04<00:00, 19.74it/s, loss=0.732, acc=0.762]\n",
            "100%|██████████| 15/15 [00:01<00:00, 12.15it/s]\n",
            "100%|██████████| 89/89 [00:04<00:00, 19.54it/s, loss=0.675, acc=0.784]\n",
            "100%|██████████| 15/15 [00:00<00:00, 17.47it/s]\n",
            "100%|██████████| 89/89 [00:03<00:00, 23.46it/s, loss=0.811, acc=0.748]\n",
            "100%|██████████| 15/15 [00:00<00:00, 17.31it/s]\n",
            "100%|██████████| 89/89 [00:03<00:00, 23.57it/s, loss=0.788, acc=0.749]\n",
            "100%|██████████| 15/15 [00:00<00:00, 17.81it/s]\n",
            "100%|██████████| 89/89 [00:04<00:00, 18.84it/s, loss=0.764, acc=0.759]\n",
            "100%|██████████| 15/15 [00:01<00:00, 14.21it/s]\n",
            "100%|██████████| 89/89 [00:03<00:00, 23.31it/s, loss=0.692, acc=0.772]\n",
            "100%|██████████| 15/15 [00:00<00:00, 19.97it/s]\n"
          ]
        },
        {
          "name": "stdout",
          "output_type": "stream",
          "text": [
            "Epoch 240 Validation Accuracy 0.6747877445551864\n"
          ]
        },
        {
          "name": "stderr",
          "output_type": "stream",
          "text": [
            "100%|██████████| 89/89 [00:03<00:00, 23.76it/s, loss=0.767, acc=0.749]\n",
            "100%|██████████| 15/15 [00:00<00:00, 17.70it/s]\n",
            "100%|██████████| 89/89 [00:03<00:00, 22.99it/s, loss=0.725, acc=0.761]\n",
            "100%|██████████| 15/15 [00:00<00:00, 20.14it/s]\n",
            "100%|██████████| 89/89 [00:03<00:00, 23.42it/s, loss=0.778, acc=0.750]\n",
            "100%|██████████| 15/15 [00:00<00:00, 16.26it/s]\n",
            "100%|██████████| 89/89 [00:03<00:00, 23.33it/s, loss=0.739, acc=0.750]\n",
            "100%|██████████| 15/15 [00:00<00:00, 15.26it/s]\n",
            "100%|██████████| 89/89 [00:03<00:00, 22.60it/s, loss=0.746, acc=0.766]\n",
            "100%|██████████| 15/15 [00:00<00:00, 17.66it/s]\n",
            "100%|██████████| 89/89 [00:04<00:00, 21.14it/s, loss=0.698, acc=0.767]\n",
            "100%|██████████| 15/15 [00:00<00:00, 15.63it/s]\n",
            "100%|██████████| 89/89 [00:04<00:00, 22.14it/s, loss=0.708, acc=0.778]\n",
            "100%|██████████| 15/15 [00:00<00:00, 22.06it/s]\n",
            "100%|██████████| 89/89 [00:03<00:00, 25.04it/s, loss=0.777, acc=0.759]\n",
            "100%|██████████| 15/15 [00:00<00:00, 23.31it/s]\n",
            "100%|██████████| 89/89 [00:03<00:00, 25.86it/s, loss=0.774, acc=0.758]\n",
            "100%|██████████| 15/15 [00:00<00:00, 19.08it/s]\n",
            "100%|██████████| 89/89 [00:03<00:00, 24.91it/s, loss=0.762, acc=0.768]\n",
            "100%|██████████| 15/15 [00:00<00:00, 23.28it/s]\n"
          ]
        },
        {
          "name": "stdout",
          "output_type": "stream",
          "text": [
            "Epoch 250 Validation Accuracy 0.6684452498405987\n"
          ]
        },
        {
          "name": "stderr",
          "output_type": "stream",
          "text": [
            "100%|██████████| 89/89 [00:03<00:00, 27.75it/s, loss=0.695, acc=0.793]\n",
            "100%|██████████| 15/15 [00:00<00:00, 20.67it/s]\n",
            "100%|██████████| 89/89 [00:03<00:00, 23.38it/s, loss=0.754, acc=0.772]\n",
            "100%|██████████| 15/15 [00:00<00:00, 21.93it/s]\n",
            "100%|██████████| 89/89 [00:03<00:00, 23.92it/s, loss=0.727, acc=0.755]\n",
            "100%|██████████| 15/15 [00:00<00:00, 23.12it/s]\n",
            "100%|██████████| 89/89 [00:03<00:00, 24.65it/s, loss=0.657, acc=0.796]\n",
            "100%|██████████| 15/15 [00:00<00:00, 15.20it/s]\n",
            "100%|██████████| 89/89 [00:03<00:00, 23.13it/s, loss=0.744, acc=0.762]\n",
            "100%|██████████| 15/15 [00:00<00:00, 20.43it/s]\n",
            "100%|██████████| 89/89 [00:03<00:00, 25.77it/s, loss=0.770, acc=0.745]\n",
            "100%|██████████| 15/15 [00:00<00:00, 23.18it/s]\n",
            "100%|██████████| 89/89 [00:03<00:00, 25.62it/s, loss=0.792, acc=0.742]\n",
            "100%|██████████| 15/15 [00:00<00:00, 17.26it/s]\n",
            "100%|██████████| 89/89 [00:04<00:00, 21.11it/s, loss=0.668, acc=0.788]\n",
            "100%|██████████| 15/15 [00:00<00:00, 17.87it/s]\n",
            "100%|██████████| 89/89 [00:05<00:00, 16.76it/s, loss=0.773, acc=0.749]\n",
            "100%|██████████| 15/15 [00:00<00:00, 17.70it/s]\n",
            "100%|██████████| 89/89 [00:04<00:00, 19.94it/s, loss=0.726, acc=0.764]\n",
            "100%|██████████| 15/15 [00:00<00:00, 16.27it/s]\n"
          ]
        },
        {
          "name": "stdout",
          "output_type": "stream",
          "text": [
            "Epoch 260 Validation Accuracy 0.6750226517668378\n"
          ]
        },
        {
          "name": "stderr",
          "output_type": "stream",
          "text": [
            "100%|██████████| 89/89 [00:04<00:00, 19.97it/s, loss=0.761, acc=0.766]\n",
            "100%|██████████| 15/15 [00:01<00:00, 13.45it/s]\n",
            "100%|██████████| 89/89 [00:04<00:00, 21.00it/s, loss=0.683, acc=0.774]\n",
            "100%|██████████| 15/15 [00:00<00:00, 20.04it/s]\n",
            "100%|██████████| 89/89 [00:04<00:00, 20.10it/s, loss=0.688, acc=0.782]\n",
            "100%|██████████| 15/15 [00:01<00:00, 14.89it/s]\n",
            "100%|██████████| 89/89 [00:04<00:00, 21.15it/s, loss=0.817, acc=0.738]\n",
            "100%|██████████| 15/15 [00:00<00:00, 19.95it/s]\n",
            "100%|██████████| 89/89 [00:04<00:00, 21.79it/s, loss=0.719, acc=0.774]\n",
            "100%|██████████| 15/15 [00:00<00:00, 18.22it/s]\n",
            "100%|██████████| 89/89 [00:03<00:00, 25.33it/s, loss=0.719, acc=0.778]\n",
            "100%|██████████| 15/15 [00:00<00:00, 21.88it/s]\n",
            "100%|██████████| 89/89 [00:03<00:00, 23.49it/s, loss=0.673, acc=0.799]\n",
            "100%|██████████| 15/15 [00:00<00:00, 21.54it/s]\n",
            "100%|██████████| 89/89 [00:03<00:00, 24.71it/s, loss=0.790, acc=0.759]\n",
            "100%|██████████| 15/15 [00:00<00:00, 17.67it/s]\n",
            "100%|██████████| 89/89 [00:03<00:00, 23.78it/s, loss=0.771, acc=0.760]\n",
            "100%|██████████| 15/15 [00:00<00:00, 16.99it/s]\n",
            "100%|██████████| 89/89 [00:04<00:00, 19.40it/s, loss=0.750, acc=0.761]\n",
            "100%|██████████| 15/15 [00:00<00:00, 22.41it/s]\n"
          ]
        },
        {
          "name": "stdout",
          "output_type": "stream",
          "text": [
            "Epoch 270 Validation Accuracy 0.6710963455149501\n"
          ]
        },
        {
          "name": "stderr",
          "output_type": "stream",
          "text": [
            "100%|██████████| 89/89 [00:03<00:00, 22.67it/s, loss=0.694, acc=0.779]\n",
            "100%|██████████| 15/15 [00:01<00:00, 13.54it/s]\n",
            "100%|██████████| 89/89 [00:04<00:00, 18.89it/s, loss=0.704, acc=0.754]\n",
            "100%|██████████| 15/15 [00:01<00:00, 12.35it/s]\n",
            "100%|██████████| 89/89 [00:03<00:00, 25.07it/s, loss=0.765, acc=0.748]\n",
            "100%|██████████| 15/15 [00:00<00:00, 22.11it/s]\n",
            "100%|██████████| 89/89 [00:03<00:00, 27.13it/s, loss=0.708, acc=0.773]\n",
            "100%|██████████| 15/15 [00:00<00:00, 22.25it/s]\n",
            "100%|██████████| 89/89 [00:03<00:00, 26.29it/s, loss=0.716, acc=0.777]\n",
            "100%|██████████| 15/15 [00:00<00:00, 22.64it/s]\n",
            "100%|██████████| 89/89 [00:03<00:00, 25.74it/s, loss=0.688, acc=0.793]\n",
            "100%|██████████| 15/15 [00:00<00:00, 21.10it/s]\n",
            "100%|██████████| 89/89 [00:03<00:00, 25.59it/s, loss=0.724, acc=0.760]\n",
            "100%|██████████| 15/15 [00:00<00:00, 24.85it/s]\n",
            "100%|██████████| 89/89 [00:03<00:00, 26.29it/s, loss=0.679, acc=0.786]\n",
            "100%|██████████| 15/15 [00:00<00:00, 24.71it/s]\n",
            "100%|██████████| 89/89 [00:03<00:00, 25.90it/s, loss=0.725, acc=0.782]\n",
            "100%|██████████| 15/15 [00:00<00:00, 22.97it/s]\n",
            "100%|██████████| 89/89 [00:03<00:00, 25.88it/s, loss=0.748, acc=0.752]\n",
            "100%|██████████| 15/15 [00:00<00:00, 21.02it/s]\n"
          ]
        },
        {
          "name": "stdout",
          "output_type": "stream",
          "text": [
            "Epoch 280 Validation Accuracy 0.6728413705157891\n"
          ]
        },
        {
          "name": "stderr",
          "output_type": "stream",
          "text": [
            "100%|██████████| 89/89 [00:03<00:00, 25.88it/s, loss=0.699, acc=0.770]\n",
            "100%|██████████| 15/15 [00:00<00:00, 23.13it/s]\n",
            "100%|██████████| 89/89 [00:03<00:00, 26.46it/s, loss=0.717, acc=0.782]\n",
            "100%|██████████| 15/15 [00:00<00:00, 21.37it/s]\n",
            "100%|██████████| 89/89 [00:03<00:00, 25.77it/s, loss=0.733, acc=0.764]\n",
            "100%|██████████| 15/15 [00:00<00:00, 24.25it/s]\n",
            "100%|██████████| 89/89 [00:03<00:00, 26.06it/s, loss=0.660, acc=0.790]\n",
            "100%|██████████| 15/15 [00:00<00:00, 22.69it/s]\n",
            "100%|██████████| 89/89 [00:03<00:00, 25.98it/s, loss=0.666, acc=0.780]\n",
            "100%|██████████| 15/15 [00:00<00:00, 21.22it/s]\n",
            "100%|██████████| 89/89 [00:03<00:00, 25.99it/s, loss=0.752, acc=0.768]\n",
            "100%|██████████| 15/15 [00:01<00:00, 12.55it/s]\n",
            "100%|██████████| 89/89 [00:05<00:00, 17.00it/s, loss=0.701, acc=0.783]\n",
            "100%|██████████| 15/15 [00:00<00:00, 15.52it/s]\n",
            "100%|██████████| 89/89 [00:05<00:00, 16.87it/s, loss=0.728, acc=0.765]\n",
            "100%|██████████| 15/15 [00:00<00:00, 22.17it/s]\n",
            "100%|██████████| 89/89 [00:03<00:00, 26.04it/s, loss=0.756, acc=0.754]\n",
            "100%|██████████| 15/15 [00:00<00:00, 23.05it/s]\n",
            "100%|██████████| 89/89 [00:04<00:00, 18.81it/s, loss=0.754, acc=0.789]\n",
            "100%|██████████| 15/15 [00:00<00:00, 23.51it/s]\n"
          ]
        },
        {
          "name": "stdout",
          "output_type": "stream",
          "text": [
            "Epoch 290 Validation Accuracy 0.6722037652270211\n"
          ]
        },
        {
          "name": "stderr",
          "output_type": "stream",
          "text": [
            "100%|██████████| 89/89 [00:04<00:00, 19.92it/s, loss=0.696, acc=0.790]\n",
            "100%|██████████| 15/15 [00:00<00:00, 20.36it/s]\n",
            "100%|██████████| 89/89 [00:04<00:00, 19.22it/s, loss=0.766, acc=0.766]\n",
            "100%|██████████| 15/15 [00:00<00:00, 16.69it/s]\n",
            "100%|██████████| 89/89 [00:04<00:00, 21.40it/s, loss=0.684, acc=0.797]\n",
            "100%|██████████| 15/15 [00:00<00:00, 17.13it/s]\n",
            "100%|██████████| 89/89 [00:05<00:00, 15.29it/s, loss=0.666, acc=0.794]\n",
            "100%|██████████| 15/15 [00:00<00:00, 15.34it/s]\n",
            "100%|██████████| 89/89 [00:04<00:00, 20.71it/s, loss=0.701, acc=0.776]\n",
            "100%|██████████| 15/15 [00:00<00:00, 16.83it/s]\n",
            "100%|██████████| 89/89 [00:04<00:00, 20.08it/s, loss=0.688, acc=0.773]\n",
            "100%|██████████| 15/15 [00:01<00:00, 14.88it/s]\n",
            "100%|██████████| 89/89 [00:06<00:00, 14.14it/s, loss=0.675, acc=0.788]\n",
            "100%|██████████| 15/15 [00:01<00:00, 12.42it/s]\n",
            "100%|██████████| 89/89 [00:04<00:00, 18.91it/s, loss=0.718, acc=0.759]\n",
            "100%|██████████| 15/15 [00:00<00:00, 17.79it/s]\n",
            "100%|██████████| 89/89 [00:04<00:00, 19.93it/s, loss=0.757, acc=0.749]\n",
            "100%|██████████| 15/15 [00:00<00:00, 15.42it/s]\n"
          ]
        }
      ],
      "source": [
        "import tqdm\n",
        "import sklearn.metrics\n",
        "\n",
        "best_accuracy = 0\n",
        "best_model_path = 'model.pt'\n",
        "for epoch in range(400):\n",
        "    model.train()\n",
        "\n",
        "    with tqdm.tqdm(train_dataloader) as tq:\n",
        "        for step, (input_nodes, output_nodes, mfgs) in enumerate(tq):\n",
        "            # feature copy from CPU to GPU takes place here\n",
        "            inputs = mfgs[0].srcdata['feat']\n",
        "            labels = mfgs[-1].dstdata['label']\n",
        "\n",
        "            predictions = model(mfgs, inputs)\n",
        "\n",
        "            loss = F.cross_entropy(predictions, labels)\n",
        "            opt.zero_grad()\n",
        "            loss.backward()\n",
        "            opt.step()\n",
        "\n",
        "            accuracy = sklearn.metrics.accuracy_score(labels.cpu().numpy(), predictions.argmax(1).detach().cpu().numpy())\n",
        "\n",
        "            tq.set_postfix({'loss': '%.03f' % loss.item(), 'acc': '%.03f' % accuracy}, refresh=False)\n",
        "\n",
        "    model.eval()\n",
        "\n",
        "    predictions = []\n",
        "    labels = []\n",
        "    with tqdm.tqdm(valid_dataloader) as tq, torch.no_grad():\n",
        "        for input_nodes, output_nodes, mfgs in tq:\n",
        "            inputs = mfgs[0].srcdata['feat']\n",
        "            labels.append(mfgs[-1].dstdata['label'].cpu().numpy())\n",
        "            predictions.append(model(mfgs, inputs).argmax(1).cpu().numpy())\n",
        "        predictions = np.concatenate(predictions)\n",
        "        labels = np.concatenate(labels)\n",
        "        accuracy = sklearn.metrics.accuracy_score(labels, predictions)\n",
        "        print('Epoch {} Validation Accuracy {}'.format(epoch, accuracy))\n",
        "        if best_accuracy < accuracy:\n",
        "            best_accuracy = accuracy\n",
        "            torch.save(model.state_dict(), best_model_path)\n",
        "\n",
        "        # Note that this tutorial do not train the whole model to the end.\n",
        "        #break"
      ]
    },
    {
      "cell_type": "markdown",
      "metadata": {},
      "source": [
        "Conclusion\n",
        "----------\n",
        "\n",
        "In this tutorial, you have learned how to train a multi-layer GraphSAGE\n",
        "with neighbor sampling.\n",
        "\n",
        "What’s next?\n",
        "------------\n",
        "\n",
        "-  :doc:`Stochastic training of GNN for link\n",
        "   prediction <L2_large_link_prediction>`.\n",
        "-  :doc:`Adapting your custom GNN module for stochastic\n",
        "   training <L4_message_passing>`.\n",
        "-  During inference you may wish to disable neighbor sampling. If so,\n",
        "   please refer to the `user guide on exact offline\n",
        "   inference <guide-minibatch-inference>`.\n",
        "\n",
        "\n"
      ]
    },
    {
      "cell_type": "code",
      "execution_count": 54,
      "metadata": {
        "collapsed": false
      },
      "outputs": [],
      "source": [
        "# Thumbnail credits: Stanford CS224W Notes\n",
        "# sphinx_gallery_thumbnail_path = '_static/blitz_1_introduction.png'"
      ]
    }
  ],
  "metadata": {
    "kernelspec": {
      "display_name": "Python 3.9.13 ('dgl': conda)",
      "language": "python",
      "name": "python3"
    },
    "language_info": {
      "codemirror_mode": {
        "name": "ipython",
        "version": 3
      },
      "file_extension": ".py",
      "mimetype": "text/x-python",
      "name": "python",
      "nbconvert_exporter": "python",
      "pygments_lexer": "ipython3",
      "version": "3.9.13"
    },
    "vscode": {
      "interpreter": {
        "hash": "95e33202290b08ea4f892216dbcce9fc3a949708e45bb206cd600e8a13373cc9"
      }
    }
  },
  "nbformat": 4,
  "nbformat_minor": 0
}
